{
 "cells": [
  {
   "cell_type": "markdown",
   "id": "33a285e4",
   "metadata": {},
   "source": [
    "# Import Libraries"
   ]
  },
  {
   "cell_type": "code",
   "execution_count": null,
   "id": "7a7dc044",
   "metadata": {},
   "outputs": [],
   "source": [
    "import csv\n",
    "import os\n",
    "from sqlalchemy.orm import Session\n",
    "from backend.app.models import Ingredient, Recipe, RecipeIngredient, User, RecipeTag, FridgeItem, FridgeLog\n",
    "from backend.app.database import SessionLocal, Base\n",
    "from backend.app.database import engine"
   ]
  },
  {
   "cell_type": "markdown",
   "id": "337a3ff9",
   "metadata": {},
   "source": [
    "# Helper Functions"
   ]
  },
  {
   "cell_type": "code",
   "execution_count": null,
   "id": "f3f5895d",
   "metadata": {},
   "outputs": [],
   "source": [
    "def parse_ingredients(ingredient_str):\n",
    "    if not ingredient_str or not ingredient_str.strip():\n",
    "        return None, None, None\n",
    "    parts = ingredient_str.split(',')\n",
    "    if len(parts) < 2:\n",
    "        return None, None, None\n",
    "    name_unit = parts[0].strip()\n",
    "    quantity = parts[1].strip()\n",
    "    if '[' in name_unit and ']' in name_unit:\n",
    "        name, unit = name_unit.split('[')\n",
    "        name = name.strip()\n",
    "        unit = unit.replace(']', '').strip()\n",
    "    else:\n",
    "        name = name_unit.strip()\n",
    "        unit = ''\n",
    "    try:\n",
    "        quantity = float(quantity.replace('/', '.'))\n",
    "    except Exception:\n",
    "        quantity = None\n",
    "    return name, unit, quantity"
   ]
  },
  {
   "cell_type": "markdown",
   "id": "77bcbcef",
   "metadata": {},
   "source": [
    "# Set Up Database\n",
    "Set up the database connection and create tables using SQLAlchemy's `Base.metadata.create_all`."
   ]
  },
  {
   "cell_type": "code",
   "execution_count": 3,
   "id": "3e61f93d",
   "metadata": {},
   "outputs": [],
   "source": [
    "Base.metadata.create_all(bind=engine)\n",
    "db: Session = SessionLocal()"
   ]
  },
  {
   "cell_type": "code",
   "execution_count": 4,
   "id": "8ba3587c",
   "metadata": {},
   "outputs": [
    {
     "name": "stdout",
     "output_type": "stream",
     "text": [
      "All tables cleared.\n"
     ]
    }
   ],
   "source": [
    "# Clear all tables in the specified order\n",
    "db.query(RecipeIngredient).delete()\n",
    "db.query(RecipeTag).delete()\n",
    "db.query(FridgeItem).delete()\n",
    "db.query(FridgeLog).delete()\n",
    "db.query(Ingredient).delete()\n",
    "db.query(Recipe).delete()\n",
    "db.query(User).delete()\n",
    "db.commit()\n",
    "print(\"All tables cleared.\")"
   ]
  },
  {
   "cell_type": "markdown",
   "id": "af4681d7",
   "metadata": {},
   "source": [
    "# Parse CSV and Populate Database\n",
    "Read the English CSV file, parse its contents, and populate the database with recipes, ingredients, and their relationships.\n",
    "print(\"All tables cleared.\")"
   ]
  },
  {
   "cell_type": "code",
   "execution_count": 5,
   "id": "14a91583",
   "metadata": {},
   "outputs": [],
   "source": [
    "CSV_PATH = '../Planner - Recipes (EN).csv'\n",
    "\n",
    "with open(CSV_PATH, newline='', encoding='utf-8') as csvfile:\n",
    "    reader = list(csv.reader(csvfile))\n",
    "    # First row: headers (Name, Alfredo Pasta, ...)\n",
    "    recipe_names = reader[0][1:]\n",
    "    # Find the row indices for Ingredients and Recipe (instruction link)\n",
    "    ingredients_rows = [i for i, row in enumerate(reader) if row[0].strip() == 'Ingredients']\n",
    "    recipe_link_rows = [i for i, row in enumerate(reader) if row[0].strip() == 'Recipe']\n",
    "    yt_link_rows = [i for i, row in enumerate(reader) if row[0].strip() == 'YT']\n",
    "    if not ingredients_rows:\n",
    "        print('No Ingredients row found!')\n",
    "    else:\n",
    "        ingredients_start = ingredients_rows[0]\n",
    "        # Build ingredient and recipe tables\n",
    "        ingredient_map = {}  # name -> Ingredient\n",
    "        recipe_map = {}      # name -> Recipe\n",
    "\n",
    "        # Prepare instruction links\n",
    "        instruction_links = {}\n",
    "        if recipe_link_rows:\n",
    "            recipe_links = reader[recipe_link_rows[0]][1:]\n",
    "        else:\n",
    "            recipe_links = [None] * len(recipe_names)\n",
    "        if yt_link_rows:\n",
    "            yt_links = reader[yt_link_rows[0]][1:]\n",
    "        else:\n",
    "            yt_links = [None] * len(recipe_names)\n",
    "        for col, recipe_name in enumerate(recipe_names):\n",
    "            if not recipe_name.strip():\n",
    "                continue\n",
    "            # Prefer Recipe link, fallback to YT link\n",
    "            instruction_link = recipe_links[col] if recipe_links[col] and recipe_links[col].strip() else yt_links[col] if yt_links[col] and yt_links[col].strip() else None\n",
    "            # Insert recipe\n",
    "            recipe = db.query(Recipe).filter_by(name=recipe_name).first()\n",
    "            if not recipe:\n",
    "                recipe = Recipe(name=recipe_name, instruction_link=instruction_link)\n",
    "                db.add(recipe)\n",
    "                db.commit()\n",
    "                db.refresh(recipe)\n",
    "            else:\n",
    "                # Update instruction_link if needed\n",
    "                if instruction_link and getattr(recipe, 'instruction_link', None) != instruction_link:\n",
    "                    recipe.instruction_link = instruction_link\n",
    "                    db.commit()\n",
    "            recipe_map[recipe_name] = recipe\n",
    "        # Now, for each ingredient row, add ingredients and recipe_ingredients\n",
    "        for row in reader[ingredients_start+1:]:\n",
    "            if not any(row):\n",
    "                continue\n",
    "            for col, cell in enumerate(row[1:]):\n",
    "                recipe_name = recipe_names[col]\n",
    "                if not recipe_name.strip() or not cell.strip():\n",
    "                    continue\n",
    "                name, unit, quantity = parse_ingredients(cell)\n",
    "                if not name:\n",
    "                    continue\n",
    "                # Insert ingredient if not exists\n",
    "                ingredient = db.query(Ingredient).filter_by(name=name).first()\n",
    "                if not ingredient:\n",
    "                    ingredient = Ingredient(name=name, default_unit=unit)\n",
    "                    db.add(ingredient)\n",
    "                    db.commit()\n",
    "                    db.refresh(ingredient)\n",
    "                ingredient_map[name] = ingredient\n",
    "                # Insert recipe_ingredient\n",
    "                recipe = recipe_map[recipe_name]\n",
    "                exists = db.query(RecipeIngredient).filter_by(recipe_id=recipe.id, ingredient_id=ingredient.id).first()\n",
    "                if not exists:\n",
    "                    ri = RecipeIngredient(recipe_id=recipe.id, ingredient_id=ingredient.id, quantity=quantity or 0, unit=unit or ingredient.default_unit or \"\")\n",
    "                    db.add(ri)\n",
    "        db.commit()"
   ]
  },
  {
   "cell_type": "markdown",
   "id": "ba1c385a",
   "metadata": {},
   "source": [
    "# Run the Script\n",
    "Execute the main logic to ensure the database is populated correctly and print a completion message."
   ]
  },
  {
   "cell_type": "code",
   "execution_count": null,
   "id": "30735f7e",
   "metadata": {},
   "outputs": [],
   "source": [
    "print(\"Import complete.\")"
   ]
  }
 ],
 "metadata": {
  "kernelspec": {
   "display_name": ".venv",
   "language": "python",
   "name": "python3"
  },
  "language_info": {
   "codemirror_mode": {
    "name": "ipython",
    "version": 3
   },
   "file_extension": ".py",
   "mimetype": "text/x-python",
   "name": "python",
   "nbconvert_exporter": "python",
   "pygments_lexer": "ipython3",
   "version": "3.11.2"
  }
 },
 "nbformat": 4,
 "nbformat_minor": 5
}
