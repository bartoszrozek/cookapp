{
 "cells": [
  {
   "cell_type": "markdown",
   "id": "33a285e4",
   "metadata": {},
   "source": [
    "# Import Libraries"
   ]
  },
  {
   "cell_type": "code",
   "execution_count": 31,
   "id": "7a7dc044",
   "metadata": {},
   "outputs": [],
   "source": [
    "import csv\n",
    "import os\n",
    "import sys\n",
    "\n",
    "module_path = os.path.abspath(os.path.join('..'))\n",
    "if module_path not in sys.path:\n",
    "    sys.path.append(module_path)\n",
    "\n",
    "from sqlalchemy.orm import Session, sessionmaker, declarative_base\n",
    "from sqlalchemy import create_engine\n",
    "\n",
    "import app.models as models\n",
    "from app.database import DATABASE_URL, TEST_DATABASE_URL"
   ]
  },
  {
   "cell_type": "code",
   "execution_count": 4,
   "id": "4be819f6",
   "metadata": {},
   "outputs": [
    {
     "data": {
      "text/plain": [
       "True"
      ]
     },
     "execution_count": 4,
     "metadata": {},
     "output_type": "execute_result"
    }
   ],
   "source": [
    "from dotenv import load_dotenv\n",
    "\n",
    "load_dotenv()"
   ]
  },
  {
   "cell_type": "markdown",
   "id": "77bcbcef",
   "metadata": {},
   "source": [
    "# Set Up Database\n",
    "Set up the database connection and create tables using SQLAlchemy's `Base.metadata.create_all`."
   ]
  },
  {
   "cell_type": "code",
   "execution_count": 72,
   "id": "7d934a86",
   "metadata": {},
   "outputs": [],
   "source": [
    "def prepare_db(URL):\n",
    "    engine = create_engine(URL)\n",
    "    SessionLocal = sessionmaker(autocommit=False, autoflush=False, bind=engine)\n",
    "    Base = declarative_base()\n",
    "    Base.metadata.create_all(bind=engine)\n",
    "    db: Session = SessionLocal()\n",
    "    Base.metadata.reflect(bind=engine)\n",
    "    return engine, Base, db"
   ]
  },
  {
   "cell_type": "code",
   "execution_count": 73,
   "id": "94421bb7",
   "metadata": {},
   "outputs": [],
   "source": [
    "engine, Base, db = prepare_db(DATABASE_URL)"
   ]
  },
  {
   "cell_type": "code",
   "execution_count": 75,
   "id": "0accdbdd",
   "metadata": {},
   "outputs": [],
   "source": [
    "model_classes = [v for k, v in models.__dict__.items() if isinstance(v, type) and hasattr(v, '__table__')]\n",
    "tables = {model.__name__: model.__table__.name for model in model_classes}\n"
   ]
  },
  {
   "cell_type": "code",
   "execution_count": 82,
   "id": "8ba3587c",
   "metadata": {},
   "outputs": [],
   "source": [
    "for model, table in tables.items():\n",
    "    file_name = f\"db_dump/{table}.csv\"\n",
    "    with open(file_name, 'w', newline='') as csvfile:\n",
    "        writer = csv.writer(csvfile)\n",
    "        # Write header\n",
    "        writer.writerow([column.name for column in Base.metadata.tables[table].columns])\n",
    "        \n",
    "        # Write data\n",
    "        for row in db.query(Base.metadata.tables[table]).all():\n",
    "            writer.writerow(row)"
   ]
  }
 ],
 "metadata": {
  "kernelspec": {
   "display_name": ".venv",
   "language": "python",
   "name": "python3"
  },
  "language_info": {
   "codemirror_mode": {
    "name": "ipython",
    "version": 3
   },
   "file_extension": ".py",
   "mimetype": "text/x-python",
   "name": "python",
   "nbconvert_exporter": "python",
   "pygments_lexer": "ipython3",
   "version": "3.11.12"
  }
 },
 "nbformat": 4,
 "nbformat_minor": 5
}
